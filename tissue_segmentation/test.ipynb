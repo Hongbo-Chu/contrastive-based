{
 "cells": [
  {
   "cell_type": "markdown",
   "metadata": {},
   "source": [
    "### 将所有图片的路径存到一个txt里面，然后shuffle，分为测试集和训练集"
   ]
  },
  {
   "cell_type": "code",
   "execution_count": 42,
   "metadata": {},
   "outputs": [
    {
     "data": {
      "text/html": [
       "<div>\n",
       "<style scoped>\n",
       "    .dataframe tbody tr th:only-of-type {\n",
       "        vertical-align: middle;\n",
       "    }\n",
       "\n",
       "    .dataframe tbody tr th {\n",
       "        vertical-align: top;\n",
       "    }\n",
       "\n",
       "    .dataframe thead th {\n",
       "        text-align: right;\n",
       "    }\n",
       "</style>\n",
       "<table border=\"1\" class=\"dataframe\">\n",
       "  <thead>\n",
       "    <tr style=\"text-align: right;\">\n",
       "      <th></th>\n",
       "      <th>path</th>\n",
       "      <th>label</th>\n",
       "    </tr>\n",
       "  </thead>\n",
       "  <tbody>\n",
       "    <tr>\n",
       "      <th>0</th>\n",
       "      <td>D:\\dataset\\NCT-CRC-HE-100K\\NCT-CRC-HE-100K\\ADI...</td>\n",
       "      <td>ADI</td>\n",
       "    </tr>\n",
       "    <tr>\n",
       "      <th>1</th>\n",
       "      <td>D:\\dataset\\NCT-CRC-HE-100K\\NCT-CRC-HE-100K\\ADI...</td>\n",
       "      <td>ADI</td>\n",
       "    </tr>\n",
       "    <tr>\n",
       "      <th>2</th>\n",
       "      <td>D:\\dataset\\NCT-CRC-HE-100K\\NCT-CRC-HE-100K\\ADI...</td>\n",
       "      <td>ADI</td>\n",
       "    </tr>\n",
       "    <tr>\n",
       "      <th>3</th>\n",
       "      <td>D:\\dataset\\NCT-CRC-HE-100K\\NCT-CRC-HE-100K\\ADI...</td>\n",
       "      <td>ADI</td>\n",
       "    </tr>\n",
       "    <tr>\n",
       "      <th>4</th>\n",
       "      <td>D:\\dataset\\NCT-CRC-HE-100K\\NCT-CRC-HE-100K\\ADI...</td>\n",
       "      <td>ADI</td>\n",
       "    </tr>\n",
       "    <tr>\n",
       "      <th>...</th>\n",
       "      <td>...</td>\n",
       "      <td>...</td>\n",
       "    </tr>\n",
       "    <tr>\n",
       "      <th>99995</th>\n",
       "      <td>D:\\dataset\\NCT-CRC-HE-100K\\NCT-CRC-HE-100K\\TUM...</td>\n",
       "      <td>TUM</td>\n",
       "    </tr>\n",
       "    <tr>\n",
       "      <th>99996</th>\n",
       "      <td>D:\\dataset\\NCT-CRC-HE-100K\\NCT-CRC-HE-100K\\TUM...</td>\n",
       "      <td>TUM</td>\n",
       "    </tr>\n",
       "    <tr>\n",
       "      <th>99997</th>\n",
       "      <td>D:\\dataset\\NCT-CRC-HE-100K\\NCT-CRC-HE-100K\\TUM...</td>\n",
       "      <td>TUM</td>\n",
       "    </tr>\n",
       "    <tr>\n",
       "      <th>99998</th>\n",
       "      <td>D:\\dataset\\NCT-CRC-HE-100K\\NCT-CRC-HE-100K\\TUM...</td>\n",
       "      <td>TUM</td>\n",
       "    </tr>\n",
       "    <tr>\n",
       "      <th>99999</th>\n",
       "      <td>D:\\dataset\\NCT-CRC-HE-100K\\NCT-CRC-HE-100K\\TUM...</td>\n",
       "      <td>TUM</td>\n",
       "    </tr>\n",
       "  </tbody>\n",
       "</table>\n",
       "<p>100000 rows × 2 columns</p>\n",
       "</div>"
      ],
      "text/plain": [
       "                                                    path label\n",
       "0      D:\\dataset\\NCT-CRC-HE-100K\\NCT-CRC-HE-100K\\ADI...   ADI\n",
       "1      D:\\dataset\\NCT-CRC-HE-100K\\NCT-CRC-HE-100K\\ADI...   ADI\n",
       "2      D:\\dataset\\NCT-CRC-HE-100K\\NCT-CRC-HE-100K\\ADI...   ADI\n",
       "3      D:\\dataset\\NCT-CRC-HE-100K\\NCT-CRC-HE-100K\\ADI...   ADI\n",
       "4      D:\\dataset\\NCT-CRC-HE-100K\\NCT-CRC-HE-100K\\ADI...   ADI\n",
       "...                                                  ...   ...\n",
       "99995  D:\\dataset\\NCT-CRC-HE-100K\\NCT-CRC-HE-100K\\TUM...   TUM\n",
       "99996  D:\\dataset\\NCT-CRC-HE-100K\\NCT-CRC-HE-100K\\TUM...   TUM\n",
       "99997  D:\\dataset\\NCT-CRC-HE-100K\\NCT-CRC-HE-100K\\TUM...   TUM\n",
       "99998  D:\\dataset\\NCT-CRC-HE-100K\\NCT-CRC-HE-100K\\TUM...   TUM\n",
       "99999  D:\\dataset\\NCT-CRC-HE-100K\\NCT-CRC-HE-100K\\TUM...   TUM\n",
       "\n",
       "[100000 rows x 2 columns]"
      ]
     },
     "execution_count": 42,
     "metadata": {},
     "output_type": "execute_result"
    }
   ],
   "source": [
    "import pandas as pd\n",
    "import cv2\n",
    "import torchvision\n",
    "import matplotlib.pyplot as plt\n",
    "import numpy as np\n",
    "import os\n",
    "import random\n",
    "Imgfolder = 'D:\\\\dataset\\\\NCT-CRC-HE-100K\\\\NCT-CRC-HE-100K'\n",
    "image_ = []\n",
    "label_ = []\n",
    "tissues_name = os.listdir(Imgfolder)\n",
    "for tis in tissues_name:\n",
    "            tissues_dir = os.path.join(Imgfolder, tis)\n",
    "            tissues_imgs = os.listdir(tissues_dir)\n",
    "            for img in tissues_imgs:\n",
    "                image_dir = os.path.join(tissues_dir,img)\n",
    "                image_.append(image_dir)\n",
    "                label_.append(tis)\n",
    "ll = {\"path\":image_, \"label\":label_}                \n",
    "df = pd.DataFrame(ll)\n",
    "train = df[0:90000]\n",
    "test = df[90001:100000]\n",
    "train.to_csv('./readdata/NCT_CRC_train.csv')\n",
    "test.to_csv('./readdata/NCT_CRC_test.csv')\n",
    "df"
   ]
  },
  {
   "cell_type": "code",
   "execution_count": 55,
   "metadata": {},
   "outputs": [
    {
     "data": {
      "text/plain": [
       "'D:\\\\dataset\\\\NCT-CRC-HE-100K\\\\NCT-CRC-HE-100K\\\\TUM\\\\TUM-HDQGTGHI.tif'"
      ]
     },
     "execution_count": 55,
     "metadata": {},
     "output_type": "execute_result"
    }
   ],
   "source": [
    "a = pd.read_csv('./readdata/NCT_CRC_test.csv')\n",
    "pa = list(a['path'])\n",
    "la = (a['label'])\n",
    "aaa = list(zip(pa, la))\n"
   ]
  },
  {
   "cell_type": "code",
   "execution_count": 56,
   "metadata": {},
   "outputs": [
    {
     "name": "stdout",
     "output_type": "stream",
     "text": [
      "<class 'numpy.ndarray'>\n",
      "torch.Size([3, 100, 100])\n",
      "<class 'torch.Tensor'>\n"
     ]
    }
   ],
   "source": [
    "class GaussianBlur:\n",
    "    def __init__(self, kernel_size, min=0.1, max=2.0):\n",
    "        self.min = min\n",
    "        self.max = max\n",
    "        self.kernel_size = kernel_size\n",
    "\n",
    "    def __call__(self, sample):\n",
    "        sample = np.array(sample)\n",
    "        prob = np.random.random_sample()\n",
    "        if prob < 0.5:\n",
    "            sigma = (self.max - self.min) * np.random.random_sample() + self.min\n",
    "            sample = cv2.GaussianBlur(sample, (self.kernel_size, self.kernel_size), sigma)\n",
    "        return sample\n",
    "class Transforms:\n",
    "    def __init__(self, size, s=1.0, mean=None, std=None, blur=False):\n",
    "        self.train_transform = [\n",
    "            torchvision.transforms.ToTensor(),\n",
    "            torchvision.transforms.RandomResizedCrop(size=size),\n",
    "            torchvision.transforms.RandomHorizontalFlip(),\n",
    "            torchvision.transforms.RandomApply([torchvision.transforms.ColorJitter(0.8 * s, 0.8 * s, 0.8 * s, 0.2 * s)],\n",
    "                                               p=0.8),\n",
    "            torchvision.transforms.RandomGrayscale(p=0.2),\n",
    "        ]\n",
    "        if blur:\n",
    "            self.train_transform.append(GaussianBlur(kernel_size=23))\n",
    "        # self.train_transform.append(torchvision.transforms.ToTensor())\n",
    "        self.test_transform = [\n",
    "            torchvision.transforms.Resize(size=(size, size)),\n",
    "            torchvision.transforms.ToTensor(),\n",
    "        ]\n",
    "        if mean and std:\n",
    "            self.train_transform.append(torchvision.transforms.Normalize(mean=mean, std=std))\n",
    "            self.test_transform.append(torchvision.transforms.Normalize(mean=mean, std=std))\n",
    "        self.train_transform = torchvision.transforms.Compose(self.train_transform)\n",
    "        self.test_transform = torchvision.transforms.Compose(self.test_transform)\n",
    "\n",
    "    def __call__(self, x):\n",
    "        return self.train_transform(x), self.train_transform(x)\n",
    "trans = Transforms(100).train_transform\n",
    "img = cv2.imread(aa[0][0])\n",
    "print(type(img))\n",
    "img = trans(img)\n",
    "print(img.size())\n",
    "print(type(img))"
   ]
  },
  {
   "cell_type": "code",
   "execution_count": 23,
   "metadata": {},
   "outputs": [
    {
     "name": "stdout",
     "output_type": "stream",
     "text": [
      "[0 0 0 0 1 0]\n",
      "-0.31744292580140976\n"
     ]
    },
    {
     "name": "stderr",
     "output_type": "stream",
     "text": [
      "D:\\jkj\\envs\\pytorch\\lib\\site-packages\\sklearn\\manifold\\_spectral_embedding.py:245: UserWarning: Graph is not fully connected, spectral embedding may not work as expected.\n",
      "  warnings.warn(\"Graph is not fully connected, spectral embedding\"\n"
     ]
    },
    {
     "data": {
      "image/png": "[encoded data removed]",
      "text/plain": [
       "<Figure size 432x288 with 1 Axes>"
      ]
     },
     "metadata": {
      "needs_background": "light"
     },
     "output_type": "display_data"
    }
   ],
   "source": [
    "from sklearn.cluster import KMeans, SpectralClustering\n",
    "from sklearn.metrics import silhouette_score\n",
    "import pandas as pd\n",
    "import matplotlib.pyplot as plt\n",
    "\n",
    "\n",
    "data = pd.DataFrame([[12,45],[13,44.5],[18,222],[19,223],[12.33,32],[14,50]],columns=list('ab'))\n",
    "km = SpectralClustering(2)\n",
    "pre = km.fit_predict(data)\n",
    "print(pre)\n",
    "SC = silhouette_score(data,pre)\n",
    "print(SC)\n",
    "color_dic = {0:'red',1:'blue',3:'black'}\n",
    "colors = [color_dic[i] for i in pre]\n",
    "plt.scatter(data.loc[:,'a'],data.loc[:,'b'],c=colors,alpha=0.7)\n",
    "plt.show()\n"
   ]
  },
  {
   "cell_type": "code",
   "execution_count": 18,
   "metadata": {},
   "outputs": [
    {
     "name": "stdout",
     "output_type": "stream",
     "text": [
      "graph:\n",
      "<class 'scipy.sparse.coo.coo_matrix'>\n",
      "[[-1.08726525 -2.10656392  1.9110699   0.58699747 -0.19019452 -0.69028275\n",
      "   0.90162652]\n",
      " [ 0.23853929  0.01702826 -0.11925146 -1.57959756  0.60794236  0.53809068\n",
      "  -0.49516216]\n",
      " [ 0.87334192  1.94247988  0.77414016  0.63481905 -1.92032455  0.67973778\n",
      "   0.54048491]\n",
      " [-0.65866735 -2.14674108  0.97732812 -1.94974393 -0.56162725 -0.06571866\n",
      "   0.82819136]\n",
      " [ 0.41339528  0.61479908  0.61339875  0.97214226 -0.77938885  1.97665722\n",
      "   1.57684375]\n",
      " [-0.28558774  0.75241089  0.13999286 -0.06785345 -1.85841441  0.80669095\n",
      "  -0.5427386 ]\n",
      " [-0.36695048  1.17575017  0.85396381  0.08355387 -0.42873808 -0.97952585\n",
      "  -1.10852545]]\n"
     ]
    },
    {
     "name": "stderr",
     "output_type": "stream",
     "text": [
      "D:\\jkj\\envs\\pytorch\\lib\\site-packages\\sklearn\\utils\\validation.py:63: UserWarning: Array is not symmetric, and will be converted to symmetric by average with its transpose.\n",
      "  return f(*args, **kwargs)\n",
      "D:\\jkj\\envs\\pytorch\\lib\\site-packages\\scipy\\sparse\\csgraph\\_laplacian.py:118: RuntimeWarning: invalid value encountered in sqrt\n",
      "  w = np.where(isolated_node_mask, 1, np.sqrt(w))\n"
     ]
    },
    {
     "ename": "ValueError",
     "evalue": "array must not contain infs or NaNs",
     "output_type": "error",
     "traceback": [
      "\u001b[1;31m---------------------------------------------------------------------------\u001b[0m",
      "\u001b[1;31mValueError\u001b[0m                                Traceback (most recent call last)",
      "\u001b[1;32m<ipython-input-18-27e60809275f>\u001b[0m in \u001b[0;36m<module>\u001b[1;34m\u001b[0m\n\u001b[0;32m     45\u001b[0m \u001b[0mdata\u001b[0m \u001b[1;33m=\u001b[0m \u001b[0mnp\u001b[0m\u001b[1;33m.\u001b[0m\u001b[0mrandom\u001b[0m\u001b[1;33m.\u001b[0m\u001b[0mrandn\u001b[0m\u001b[1;33m(\u001b[0m\u001b[1;36m7\u001b[0m\u001b[1;33m,\u001b[0m\u001b[1;36m7\u001b[0m\u001b[1;33m)\u001b[0m \u001b[1;31m#= pd.DataFrame([[12,45],[13,44.5],[18,222],[19,223],[12.33,32],[14,50]],columns=list('ab'))\u001b[0m\u001b[1;33m\u001b[0m\u001b[1;33m\u001b[0m\u001b[0m\n\u001b[0;32m     46\u001b[0m \u001b[0mprint\u001b[0m\u001b[1;33m(\u001b[0m\u001b[0mdata\u001b[0m\u001b[1;33m)\u001b[0m\u001b[1;33m\u001b[0m\u001b[1;33m\u001b[0m\u001b[0m\n\u001b[1;32m---> 47\u001b[1;33m \u001b[0mlabels\u001b[0m \u001b[1;33m=\u001b[0m \u001b[0mspectral_clustering\u001b[0m\u001b[1;33m(\u001b[0m\u001b[0mdata\u001b[0m\u001b[1;33m,\u001b[0m \u001b[0mn_clusters\u001b[0m\u001b[1;33m=\u001b[0m\u001b[1;36m4\u001b[0m\u001b[1;33m,\u001b[0m \u001b[0meigen_solver\u001b[0m\u001b[1;33m=\u001b[0m\u001b[1;34m\"arpack\"\u001b[0m\u001b[1;33m)\u001b[0m\u001b[1;33m\u001b[0m\u001b[1;33m\u001b[0m\u001b[0m\n\u001b[0m\u001b[0;32m     48\u001b[0m \u001b[0mprint\u001b[0m\u001b[1;33m(\u001b[0m\u001b[0mlen\u001b[0m\u001b[1;33m(\u001b[0m\u001b[0mlabels\u001b[0m\u001b[1;33m)\u001b[0m\u001b[1;33m)\u001b[0m\u001b[1;33m\u001b[0m\u001b[1;33m\u001b[0m\u001b[0m\n\u001b[0;32m     49\u001b[0m \u001b[0mlabel_im\u001b[0m \u001b[1;33m=\u001b[0m \u001b[0mnp\u001b[0m\u001b[1;33m.\u001b[0m\u001b[0mfull\u001b[0m\u001b[1;33m(\u001b[0m\u001b[0mmask\u001b[0m\u001b[1;33m.\u001b[0m\u001b[0mshape\u001b[0m\u001b[1;33m,\u001b[0m \u001b[1;33m-\u001b[0m\u001b[1;36m1.0\u001b[0m\u001b[1;33m)\u001b[0m\u001b[1;33m\u001b[0m\u001b[1;33m\u001b[0m\u001b[0m\n",
      "\u001b[1;32mD:\\jkj\\envs\\pytorch\\lib\\site-packages\\sklearn\\utils\\validation.py\u001b[0m in \u001b[0;36minner_f\u001b[1;34m(*args, **kwargs)\u001b[0m\n\u001b[0;32m     61\u001b[0m             \u001b[0mextra_args\u001b[0m \u001b[1;33m=\u001b[0m \u001b[0mlen\u001b[0m\u001b[1;33m(\u001b[0m\u001b[0margs\u001b[0m\u001b[1;33m)\u001b[0m \u001b[1;33m-\u001b[0m \u001b[0mlen\u001b[0m\u001b[1;33m(\u001b[0m\u001b[0mall_args\u001b[0m\u001b[1;33m)\u001b[0m\u001b[1;33m\u001b[0m\u001b[1;33m\u001b[0m\u001b[0m\n\u001b[0;32m     62\u001b[0m             \u001b[1;32mif\u001b[0m \u001b[0mextra_args\u001b[0m \u001b[1;33m<=\u001b[0m \u001b[1;36m0\u001b[0m\u001b[1;33m:\u001b[0m\u001b[1;33m\u001b[0m\u001b[1;33m\u001b[0m\u001b[0m\n\u001b[1;32m---> 63\u001b[1;33m                 \u001b[1;32mreturn\u001b[0m \u001b[0mf\u001b[0m\u001b[1;33m(\u001b[0m\u001b[1;33m*\u001b[0m\u001b[0margs\u001b[0m\u001b[1;33m,\u001b[0m \u001b[1;33m**\u001b[0m\u001b[0mkwargs\u001b[0m\u001b[1;33m)\u001b[0m\u001b[1;33m\u001b[0m\u001b[1;33m\u001b[0m\u001b[0m\n\u001b[0m\u001b[0;32m     64\u001b[0m \u001b[1;33m\u001b[0m\u001b[0m\n\u001b[0;32m     65\u001b[0m             \u001b[1;31m# extra_args > 0\u001b[0m\u001b[1;33m\u001b[0m\u001b[1;33m\u001b[0m\u001b[1;33m\u001b[0m\u001b[0m\n",
      "\u001b[1;32mD:\\jkj\\envs\\pytorch\\lib\\site-packages\\sklearn\\cluster\\_spectral.py\u001b[0m in \u001b[0;36mspectral_clustering\u001b[1;34m(affinity, n_clusters, n_components, eigen_solver, random_state, n_init, eigen_tol, assign_labels, verbose)\u001b[0m\n\u001b[0;32m    273\u001b[0m                               \u001b[0meigen_solver\u001b[0m\u001b[1;33m=\u001b[0m\u001b[0meigen_solver\u001b[0m\u001b[1;33m,\u001b[0m\u001b[1;33m\u001b[0m\u001b[1;33m\u001b[0m\u001b[0m\n\u001b[0;32m    274\u001b[0m                               \u001b[0mrandom_state\u001b[0m\u001b[1;33m=\u001b[0m\u001b[0mrandom_state\u001b[0m\u001b[1;33m,\u001b[0m\u001b[1;33m\u001b[0m\u001b[1;33m\u001b[0m\u001b[0m\n\u001b[1;32m--> 275\u001b[1;33m                               eigen_tol=eigen_tol, drop_first=False)\n\u001b[0m\u001b[0;32m    276\u001b[0m     \u001b[1;32mif\u001b[0m \u001b[0mverbose\u001b[0m\u001b[1;33m:\u001b[0m\u001b[1;33m\u001b[0m\u001b[1;33m\u001b[0m\u001b[0m\n\u001b[0;32m    277\u001b[0m         \u001b[0mprint\u001b[0m\u001b[1;33m(\u001b[0m\u001b[1;34mf'Computing label assignment using {assign_labels}'\u001b[0m\u001b[1;33m)\u001b[0m\u001b[1;33m\u001b[0m\u001b[1;33m\u001b[0m\u001b[0m\n",
      "\u001b[1;32mD:\\jkj\\envs\\pytorch\\lib\\site-packages\\sklearn\\utils\\validation.py\u001b[0m in \u001b[0;36minner_f\u001b[1;34m(*args, **kwargs)\u001b[0m\n\u001b[0;32m     61\u001b[0m             \u001b[0mextra_args\u001b[0m \u001b[1;33m=\u001b[0m \u001b[0mlen\u001b[0m\u001b[1;33m(\u001b[0m\u001b[0margs\u001b[0m\u001b[1;33m)\u001b[0m \u001b[1;33m-\u001b[0m \u001b[0mlen\u001b[0m\u001b[1;33m(\u001b[0m\u001b[0mall_args\u001b[0m\u001b[1;33m)\u001b[0m\u001b[1;33m\u001b[0m\u001b[1;33m\u001b[0m\u001b[0m\n\u001b[0;32m     62\u001b[0m             \u001b[1;32mif\u001b[0m \u001b[0mextra_args\u001b[0m \u001b[1;33m<=\u001b[0m \u001b[1;36m0\u001b[0m\u001b[1;33m:\u001b[0m\u001b[1;33m\u001b[0m\u001b[1;33m\u001b[0m\u001b[0m\n\u001b[1;32m---> 63\u001b[1;33m                 \u001b[1;32mreturn\u001b[0m \u001b[0mf\u001b[0m\u001b[1;33m(\u001b[0m\u001b[1;33m*\u001b[0m\u001b[0margs\u001b[0m\u001b[1;33m,\u001b[0m \u001b[1;33m**\u001b[0m\u001b[0mkwargs\u001b[0m\u001b[1;33m)\u001b[0m\u001b[1;33m\u001b[0m\u001b[1;33m\u001b[0m\u001b[0m\n\u001b[0m\u001b[0;32m     64\u001b[0m \u001b[1;33m\u001b[0m\u001b[0m\n\u001b[0;32m     65\u001b[0m             \u001b[1;31m# extra_args > 0\u001b[0m\u001b[1;33m\u001b[0m\u001b[1;33m\u001b[0m\u001b[1;33m\u001b[0m\u001b[0m\n",
      "\u001b[1;32mD:\\jkj\\envs\\pytorch\\lib\\site-packages\\sklearn\\manifold\\_spectral_embedding.py\u001b[0m in \u001b[0;36mspectral_embedding\u001b[1;34m(adjacency, n_components, eigen_solver, random_state, eigen_tol, norm_laplacian, drop_first)\u001b[0m\n\u001b[0;32m    279\u001b[0m             _, diffusion_map = eigsh(\n\u001b[0;32m    280\u001b[0m                 \u001b[0mlaplacian\u001b[0m\u001b[1;33m,\u001b[0m \u001b[0mk\u001b[0m\u001b[1;33m=\u001b[0m\u001b[0mn_components\u001b[0m\u001b[1;33m,\u001b[0m \u001b[0msigma\u001b[0m\u001b[1;33m=\u001b[0m\u001b[1;36m1.0\u001b[0m\u001b[1;33m,\u001b[0m \u001b[0mwhich\u001b[0m\u001b[1;33m=\u001b[0m\u001b[1;34m'LM'\u001b[0m\u001b[1;33m,\u001b[0m\u001b[1;33m\u001b[0m\u001b[1;33m\u001b[0m\u001b[0m\n\u001b[1;32m--> 281\u001b[1;33m                 tol=eigen_tol, v0=v0)\n\u001b[0m\u001b[0;32m    282\u001b[0m             \u001b[0membedding\u001b[0m \u001b[1;33m=\u001b[0m \u001b[0mdiffusion_map\u001b[0m\u001b[1;33m.\u001b[0m\u001b[0mT\u001b[0m\u001b[1;33m[\u001b[0m\u001b[0mn_components\u001b[0m\u001b[1;33m:\u001b[0m\u001b[1;33m:\u001b[0m\u001b[1;33m-\u001b[0m\u001b[1;36m1\u001b[0m\u001b[1;33m]\u001b[0m\u001b[1;33m\u001b[0m\u001b[1;33m\u001b[0m\u001b[0m\n\u001b[0;32m    283\u001b[0m             \u001b[1;32mif\u001b[0m \u001b[0mnorm_laplacian\u001b[0m\u001b[1;33m:\u001b[0m\u001b[1;33m\u001b[0m\u001b[1;33m\u001b[0m\u001b[0m\n",
      "\u001b[1;32mD:\\jkj\\envs\\pytorch\\lib\\site-packages\\scipy\\sparse\\linalg\\eigen\\arpack\\arpack.py\u001b[0m in \u001b[0;36meigsh\u001b[1;34m(A, k, M, sigma, which, v0, ncv, maxiter, tol, return_eigenvectors, Minv, OPinv, mode)\u001b[0m\n\u001b[0;32m   1640\u001b[0m             \u001b[1;32mif\u001b[0m \u001b[0mOPinv\u001b[0m \u001b[1;32mis\u001b[0m \u001b[1;32mNone\u001b[0m\u001b[1;33m:\u001b[0m\u001b[1;33m\u001b[0m\u001b[1;33m\u001b[0m\u001b[0m\n\u001b[0;32m   1641\u001b[0m                 Minv_matvec = get_OPinv_matvec(A, M, sigma,\n\u001b[1;32m-> 1642\u001b[1;33m                                                hermitian=True, tol=tol)\n\u001b[0m\u001b[0;32m   1643\u001b[0m             \u001b[1;32melse\u001b[0m\u001b[1;33m:\u001b[0m\u001b[1;33m\u001b[0m\u001b[1;33m\u001b[0m\u001b[0m\n\u001b[0;32m   1644\u001b[0m                 \u001b[0mOPinv\u001b[0m \u001b[1;33m=\u001b[0m \u001b[0m_aslinearoperator_with_dtype\u001b[0m\u001b[1;33m(\u001b[0m\u001b[0mOPinv\u001b[0m\u001b[1;33m)\u001b[0m\u001b[1;33m\u001b[0m\u001b[1;33m\u001b[0m\u001b[0m\n",
      "\u001b[1;32mD:\\jkj\\envs\\pytorch\\lib\\site-packages\\scipy\\sparse\\linalg\\eigen\\arpack\\arpack.py\u001b[0m in \u001b[0;36mget_OPinv_matvec\u001b[1;34m(A, M, sigma, hermitian, tol)\u001b[0m\n\u001b[0;32m   1068\u001b[0m                 \u001b[0mA\u001b[0m \u001b[1;33m=\u001b[0m \u001b[0mA\u001b[0m \u001b[1;33m+\u001b[0m \u001b[1;36m0j\u001b[0m\u001b[1;33m\u001b[0m\u001b[1;33m\u001b[0m\u001b[0m\n\u001b[0;32m   1069\u001b[0m             \u001b[0mA\u001b[0m\u001b[1;33m.\u001b[0m\u001b[0mflat\u001b[0m\u001b[1;33m[\u001b[0m\u001b[1;33m:\u001b[0m\u001b[1;33m:\u001b[0m\u001b[0mA\u001b[0m\u001b[1;33m.\u001b[0m\u001b[0mshape\u001b[0m\u001b[1;33m[\u001b[0m\u001b[1;36m1\u001b[0m\u001b[1;33m]\u001b[0m \u001b[1;33m+\u001b[0m \u001b[1;36m1\u001b[0m\u001b[1;33m]\u001b[0m \u001b[1;33m-=\u001b[0m \u001b[0msigma\u001b[0m\u001b[1;33m\u001b[0m\u001b[1;33m\u001b[0m\u001b[0m\n\u001b[1;32m-> 1070\u001b[1;33m             \u001b[1;32mreturn\u001b[0m \u001b[0mLuInv\u001b[0m\u001b[1;33m(\u001b[0m\u001b[0mA\u001b[0m\u001b[1;33m)\u001b[0m\u001b[1;33m.\u001b[0m\u001b[0mmatvec\u001b[0m\u001b[1;33m\u001b[0m\u001b[1;33m\u001b[0m\u001b[0m\n\u001b[0m\u001b[0;32m   1071\u001b[0m         \u001b[1;32melif\u001b[0m \u001b[0misspmatrix\u001b[0m\u001b[1;33m(\u001b[0m\u001b[0mA\u001b[0m\u001b[1;33m)\u001b[0m \u001b[1;32mor\u001b[0m \u001b[0mis_pydata_spmatrix\u001b[0m\u001b[1;33m(\u001b[0m\u001b[0mA\u001b[0m\u001b[1;33m)\u001b[0m\u001b[1;33m:\u001b[0m\u001b[1;33m\u001b[0m\u001b[1;33m\u001b[0m\u001b[0m\n\u001b[0;32m   1072\u001b[0m             \u001b[0mA\u001b[0m \u001b[1;33m=\u001b[0m \u001b[0mA\u001b[0m \u001b[1;33m-\u001b[0m \u001b[0msigma\u001b[0m \u001b[1;33m*\u001b[0m \u001b[0meye\u001b[0m\u001b[1;33m(\u001b[0m\u001b[0mA\u001b[0m\u001b[1;33m.\u001b[0m\u001b[0mshape\u001b[0m\u001b[1;33m[\u001b[0m\u001b[1;36m0\u001b[0m\u001b[1;33m]\u001b[0m\u001b[1;33m)\u001b[0m\u001b[1;33m\u001b[0m\u001b[1;33m\u001b[0m\u001b[0m\n",
      "\u001b[1;32mD:\\jkj\\envs\\pytorch\\lib\\site-packages\\scipy\\sparse\\linalg\\eigen\\arpack\\arpack.py\u001b[0m in \u001b[0;36m__init__\u001b[1;34m(self, M)\u001b[0m\n\u001b[0;32m    935\u001b[0m     \"\"\"\n\u001b[0;32m    936\u001b[0m     \u001b[1;32mdef\u001b[0m \u001b[0m__init__\u001b[0m\u001b[1;33m(\u001b[0m\u001b[0mself\u001b[0m\u001b[1;33m,\u001b[0m \u001b[0mM\u001b[0m\u001b[1;33m)\u001b[0m\u001b[1;33m:\u001b[0m\u001b[1;33m\u001b[0m\u001b[1;33m\u001b[0m\u001b[0m\n\u001b[1;32m--> 937\u001b[1;33m         \u001b[0mself\u001b[0m\u001b[1;33m.\u001b[0m\u001b[0mM_lu\u001b[0m \u001b[1;33m=\u001b[0m \u001b[0mlu_factor\u001b[0m\u001b[1;33m(\u001b[0m\u001b[0mM\u001b[0m\u001b[1;33m)\u001b[0m\u001b[1;33m\u001b[0m\u001b[1;33m\u001b[0m\u001b[0m\n\u001b[0m\u001b[0;32m    938\u001b[0m         \u001b[0mself\u001b[0m\u001b[1;33m.\u001b[0m\u001b[0mshape\u001b[0m \u001b[1;33m=\u001b[0m \u001b[0mM\u001b[0m\u001b[1;33m.\u001b[0m\u001b[0mshape\u001b[0m\u001b[1;33m\u001b[0m\u001b[1;33m\u001b[0m\u001b[0m\n\u001b[0;32m    939\u001b[0m         \u001b[0mself\u001b[0m\u001b[1;33m.\u001b[0m\u001b[0mdtype\u001b[0m \u001b[1;33m=\u001b[0m \u001b[0mM\u001b[0m\u001b[1;33m.\u001b[0m\u001b[0mdtype\u001b[0m\u001b[1;33m\u001b[0m\u001b[1;33m\u001b[0m\u001b[0m\n",
      "\u001b[1;32mD:\\jkj\\envs\\pytorch\\lib\\site-packages\\scipy\\linalg\\decomp_lu.py\u001b[0m in \u001b[0;36mlu_factor\u001b[1;34m(a, overwrite_a, check_finite)\u001b[0m\n\u001b[0;32m     68\u001b[0m     \"\"\"\n\u001b[0;32m     69\u001b[0m     \u001b[1;32mif\u001b[0m \u001b[0mcheck_finite\u001b[0m\u001b[1;33m:\u001b[0m\u001b[1;33m\u001b[0m\u001b[1;33m\u001b[0m\u001b[0m\n\u001b[1;32m---> 70\u001b[1;33m         \u001b[0ma1\u001b[0m \u001b[1;33m=\u001b[0m \u001b[0masarray_chkfinite\u001b[0m\u001b[1;33m(\u001b[0m\u001b[0ma\u001b[0m\u001b[1;33m)\u001b[0m\u001b[1;33m\u001b[0m\u001b[1;33m\u001b[0m\u001b[0m\n\u001b[0m\u001b[0;32m     71\u001b[0m     \u001b[1;32melse\u001b[0m\u001b[1;33m:\u001b[0m\u001b[1;33m\u001b[0m\u001b[1;33m\u001b[0m\u001b[0m\n\u001b[0;32m     72\u001b[0m         \u001b[0ma1\u001b[0m \u001b[1;33m=\u001b[0m \u001b[0masarray\u001b[0m\u001b[1;33m(\u001b[0m\u001b[0ma\u001b[0m\u001b[1;33m)\u001b[0m\u001b[1;33m\u001b[0m\u001b[1;33m\u001b[0m\u001b[0m\n",
      "\u001b[1;32mD:\\jkj\\envs\\pytorch\\lib\\site-packages\\numpy\\lib\\function_base.py\u001b[0m in \u001b[0;36masarray_chkfinite\u001b[1;34m(a, dtype, order)\u001b[0m\n\u001b[0;32m    484\u001b[0m     \u001b[1;32mif\u001b[0m \u001b[0ma\u001b[0m\u001b[1;33m.\u001b[0m\u001b[0mdtype\u001b[0m\u001b[1;33m.\u001b[0m\u001b[0mchar\u001b[0m \u001b[1;32min\u001b[0m \u001b[0mtypecodes\u001b[0m\u001b[1;33m[\u001b[0m\u001b[1;34m'AllFloat'\u001b[0m\u001b[1;33m]\u001b[0m \u001b[1;32mand\u001b[0m \u001b[1;32mnot\u001b[0m \u001b[0mnp\u001b[0m\u001b[1;33m.\u001b[0m\u001b[0misfinite\u001b[0m\u001b[1;33m(\u001b[0m\u001b[0ma\u001b[0m\u001b[1;33m)\u001b[0m\u001b[1;33m.\u001b[0m\u001b[0mall\u001b[0m\u001b[1;33m(\u001b[0m\u001b[1;33m)\u001b[0m\u001b[1;33m:\u001b[0m\u001b[1;33m\u001b[0m\u001b[1;33m\u001b[0m\u001b[0m\n\u001b[0;32m    485\u001b[0m         raise ValueError(\n\u001b[1;32m--> 486\u001b[1;33m             \"array must not contain infs or NaNs\")\n\u001b[0m\u001b[0;32m    487\u001b[0m     \u001b[1;32mreturn\u001b[0m \u001b[0ma\u001b[0m\u001b[1;33m\u001b[0m\u001b[1;33m\u001b[0m\u001b[0m\n\u001b[0;32m    488\u001b[0m \u001b[1;33m\u001b[0m\u001b[0m\n",
      "\u001b[1;31mValueError\u001b[0m: array must not contain infs or NaNs"
     ]
    }
   ],
   "source": [
    "import numpy as np\n",
    "import matplotlib.pyplot as plt\n",
    "import pandas as pd\n",
    "from sklearn.feature_extraction import image\n",
    "from sklearn.cluster import spectral_clustering\n",
    "\n",
    "l = 100\n",
    "x, y = np.indices((l, l))\n",
    "\n",
    "center1 = (28, 24)\n",
    "center2 = (40, 50)\n",
    "center3 = (67, 58)\n",
    "center4 = (24, 70)\n",
    "\n",
    "radius1, radius2, radius3, radius4 = 16, 14, 15, 14\n",
    "\n",
    "circle1 = (x - center1[0]) ** 2 + (y - center1[1]) ** 2 < radius1 ** 2\n",
    "circle2 = (x - center2[0]) ** 2 + (y - center2[1]) ** 2 < radius2 ** 2\n",
    "circle3 = (x - center3[0]) ** 2 + (y - center3[1]) ** 2 < radius3 ** 2\n",
    "circle4 = (x - center4[0]) ** 2 + (y - center4[1]) ** 2 < radius4 ** 2\n",
    "\n",
    "# #############################################################################\n",
    "# 4 circles\n",
    "img = circle1 + circle2 + circle3 + circle4\n",
    "\n",
    "# We use a mask that limits to the foreground: the problem that we are\n",
    "# interested in here is not separating the objects from the background,\n",
    "# but separating them one from the other.\n",
    "mask = img.astype(bool)\n",
    "\n",
    "img = img.astype(float)\n",
    "img += 1 + 0.2 * np.random.randn(*img.shape)\n",
    "\n",
    "# Convert the image into a graph with the value of the gradient on the\n",
    "# edges.\n",
    "graph = image.img_to_graph(img, mask=mask)\n",
    "print(\"graph:\")\n",
    "print(type(graph))\n",
    "# Take a decreasing function of the gradient: we take it weakly\n",
    "# dependent from the gradient the segmentation is close to a voronoi\n",
    "graph.data = np.exp(-graph.data / graph.data.std())\n",
    "\n",
    "# Force the solver to be arpack, since amg is numerically\n",
    "# unstable on this example\n",
    "data = np.random.randn(7,7) #= pd.DataFrame([[12,45],[13,44.5],[18,222],[19,223],[12.33,32],[14,50]],columns=list('ab'))\n",
    "print(data)\n",
    "labels = spectral_clustering(data, n_clusters=4, eigen_solver=\"arpack\")\n",
    "print(len(labels))\n",
    "label_im = np.full(mask.shape, -1.0)\n",
    "label_im[mask] = labels\n",
    "\n",
    "plt.matshow(img)\n",
    "plt.matshow(label_im)\n",
    "\n",
    "# #############################################################################\n",
    "# 2 circles\n",
    "img = circle1 + circle2\n",
    "mask = img.astype(bool)\n",
    "img = img.astype(float)\n",
    "\n",
    "img += 1 + 0.2 * np.random.randn(*img.shape)\n",
    "\n",
    "graph = image.img_to_graph(img, mask=mask)\n",
    "graph.data = np.exp(-graph.data / graph.data.std())\n",
    "\n",
    "labels = spectral_clustering(graph, n_clusters=2, eigen_solver=\"arpack\")\n",
    "label_im = np.full(mask.shape, -1.0)\n",
    "label_im[mask] = labels\n",
    "\n",
    "plt.matshow(img)\n",
    "plt.matshow(label_im)\n",
    "\n",
    "plt.show()"
   ]
  },
  {
   "cell_type": "code",
   "execution_count": 38,
   "metadata": {},
   "outputs": [],
   "source": [
    "'''\n",
    "input: K clusters, each cluster has different nums of vectors\n",
    "'''\n",
    "from sklearn.cluster import KMeans\n",
    "from sklearn.metrics import silhouette_score #用的是不是cosine distance?????\n",
    "from sklearn.cluster import SpectralClustering\n",
    "import pandas as pd\n",
    "\n",
    "def Refinement(input, clus_label, clus_nums):\n",
    "    '''\n",
    "    params:\n",
    "    embeddings: each vector stands for a image.\n",
    "        embedding[0-k], embedding[i] is a group of cluster\n",
    "    clus_label: clusters of each image. \n",
    "        dim = 1 X N\n",
    "    clus_num: total nums of the clusters\n",
    "    '''\n",
    "    sc_pre = silhouette_score(input, clus_label)\n",
    "    sc_best = sc_pre\n",
    "    i = 0\n",
    "    Scluster = SpectralClustering(1)\n",
    "    #先按照clusters分类\n",
    "    clusters = [[] for x in range(clus_nums)]\n",
    "    for j, vec in enumerate(input):\n",
    "        clusters[clus_label[j]].append(vec)\n",
    "        \n",
    "    while(i < clus_nums):\n",
    "        # Bi-partition i-th cluster with spectral clustering\n",
    "        temp = clusters[i]\n",
    "        bi_partition_label = Scluster.fit_predict(temp)\n",
    "        print(bi_partition_label)\n",
    "        #\n",
    "        bi_paritition_0 = []\n",
    "        bi_paritition_1 = []\n",
    "        clusters_temp = clusters\n",
    "        for k, val in enumerate(bi_partition_label):\n",
    "            if val == 0:\n",
    "                bi_paritition_0.append(temp[k])\n",
    "            else:\n",
    "                bi_paritition_1.append(temp[k])\n",
    "        clusters_temp.pop(0)\n",
    "        clusters_temp.append(bi_paritition_0)\n",
    "        clusters_temp.append(bi_paritition_1)\n",
    "        #将cluster合并\n",
    "        all_temp = []\n",
    "        label_temp = []\n",
    "        for i in range(len(clusters_temp)):\n",
    "            all_temp.extend(clusters_temp[i])\n",
    "            label_temp.extend([i for _ in range(len(clusters_temp[i]))])\n",
    "        print(all_temp)\n",
    "        print(label_temp)\n",
    "        sc_new = silhouette_score(all_temp, label_temp)\n",
    "        if sc_new > sc_best:\n",
    "            sc_best = sc_new\n",
    "            #更新clusters\n",
    "            clusters.pop[i]\n",
    "            clusters.append(bi_paritition_0)\n",
    "            clusters.append(bi_paritition_1)\n",
    "        #else就直接走\n",
    "        return clusters\n",
    "        \n"
   ]
  },
  {
   "cell_type": "code",
   "execution_count": 40,
   "metadata": {},
   "outputs": [
    {
     "name": "stdout",
     "output_type": "stream",
     "text": [
      "[0 0]\n",
      "[array([ 0.05810274, -0.05713758, -1.04462839, -1.31768102, -0.74328703,\n",
      "        0.09857934,  1.32331636]), array([ 0.1672118 ,  0.3082765 ,  0.37050417, -0.18543914,  0.01248449,\n",
      "       -0.45348339, -1.02292245]), array([ 1.85246238,  0.20836712, -0.43996939, -0.18392837,  0.15081476,\n",
      "        0.3254346 , -0.68000899]), array([ 0.17225122,  0.94023439,  1.79190805,  0.28601435, -1.05798031,\n",
      "        0.93601394,  1.7634666 ]), array([ 0.19997425,  0.82546105,  0.20180922,  0.79773011, -0.46598979,\n",
      "        0.93880877,  0.02336085]), array([ 0.23345742, -0.88071665,  1.21991054,  0.1958813 , -0.80935025,\n",
      "       -1.2104003 , -0.15330086]), array([-0.58850365,  0.13696167, -0.3559037 , -0.1704118 ,  0.81274734,\n",
      "       -2.4040576 ,  0.53215618])]\n",
      "[0, 0, 0, 0, 0, 1, 1]\n",
      "[[array([ 0.05810274, -0.05713758, -1.04462839, -1.31768102, -0.74328703,\n",
      "        0.09857934,  1.32331636]), array([ 0.1672118 ,  0.3082765 ,  0.37050417, -0.18543914,  0.01248449,\n",
      "       -0.45348339, -1.02292245]), array([ 1.85246238,  0.20836712, -0.43996939, -0.18392837,  0.15081476,\n",
      "        0.3254346 , -0.68000899]), array([ 0.17225122,  0.94023439,  1.79190805,  0.28601435, -1.05798031,\n",
      "        0.93601394,  1.7634666 ]), array([ 0.19997425,  0.82546105,  0.20180922,  0.79773011, -0.46598979,\n",
      "        0.93880877,  0.02336085])], [array([ 0.23345742, -0.88071665,  1.21991054,  0.1958813 , -0.80935025,\n",
      "       -1.2104003 , -0.15330086]), array([-0.58850365,  0.13696167, -0.3559037 , -0.1704118 ,  0.81274734,\n",
      "       -2.4040576 ,  0.53215618])], []]\n"
     ]
    },
    {
     "name": "stderr",
     "output_type": "stream",
     "text": [
      "D:\\jkj\\envs\\pytorch\\lib\\site-packages\\sklearn\\cluster\\_kmeans.py:882: UserWarning: KMeans is known to have a memory leak on Windows with MKL, when there are less chunks than available threads. You can avoid it by setting the environment variable OMP_NUM_THREADS=1.\n",
      "  f\"KMeans is known to have a memory leak on Windows \"\n"
     ]
    }
   ],
   "source": [
    "a = np.random.randn(7,7)\n",
    "lab = np.array([1,1,1,1,0,0,1])\n",
    "nn = Refinement(a, lab, 2)\n",
    "print(nn)"
   ]
  }
 ],
 "metadata": {
  "interpreter": {
   "hash": "72399f0b44d99fad973723989a7701ce657906c47d197fe6917a3c0d20d31390"
  },
  "kernelspec": {
   "display_name": "Python 3.6.13 ('pytorch')",
   "language": "python",
   "name": "python3"
  },
  "language_info": {
   "codemirror_mode": {
    "name": "ipython",
    "version": 3
   },
   "file_extension": ".py",
   "mimetype": "text/x-python",
   "name": "python",
   "nbconvert_exporter": "python",
   "pygments_lexer": "ipython3",
   "version": "3.6.13"
  },
  "orig_nbformat": 4
 },
 "nbformat": 4,
 "nbformat_minor": 2
}
